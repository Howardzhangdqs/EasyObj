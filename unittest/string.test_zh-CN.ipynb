{
 "cells": [
  {
   "cell_type": "code",
   "execution_count": 1,
   "metadata": {},
   "outputs": [],
   "source": [
    "from test import Expect\n",
    "from EasyObj import BetterString\n",
    "\n",
    "import re"
   ]
  },
  {
   "cell_type": "markdown",
   "metadata": {},
   "source": [
    "可以通过实例化一个 `BetterString` 得到一个 `BetterString` 对象。"
   ]
  },
  {
   "cell_type": "markdown",
   "metadata": {},
   "source": [
    "这里的 `Expect` 没啥用，就是检查传入的两个参数是否相同，如果不同就输出差异，如果相同就啥也不干。"
   ]
  },
  {
   "cell_type": "code",
   "execution_count": 2,
   "metadata": {},
   "outputs": [],
   "source": [
    "e = Expect(\"Basic\", showTimes=True)\n",
    "\n",
    "betterString = BetterString(\"Very Good String\")"
   ]
  },
  {
   "cell_type": "markdown",
   "metadata": {},
   "source": [
    "`BetterString` 类继承于 `str` 类，因此它可以直接和 `str` 对象进行比较。"
   ]
  },
  {
   "cell_type": "code",
   "execution_count": 3,
   "metadata": {},
   "outputs": [],
   "source": [
    "e._(betterString, \"Very Good String\")\n",
    "\n",
    "e._(betterString == \"Very Good String\", True)\n",
    "e._(BetterString(\"a\") > \"b\", False)"
   ]
  },
  {
   "cell_type": "markdown",
   "metadata": {},
   "source": [
    "`BetterString` 可以直接通过 property 的方式访问到字符串长度。"
   ]
  },
  {
   "cell_type": "code",
   "execution_count": 4,
   "metadata": {},
   "outputs": [],
   "source": [
    "e._(betterString.length, 16)"
   ]
  },
  {
   "cell_type": "markdown",
   "metadata": {},
   "source": [
    "以下是其他一些 `EasyObj.BetterString` 支持的操作："
   ]
  },
  {
   "cell_type": "markdown",
   "metadata": {},
   "source": [
    "`String.prototype.at()` => `BetterString().at()`\n",
    "\n",
    "<https://developer.mozilla.org/zh-CN/docs/Web/JavaScript/Reference/Global_Objects/String/at>"
   ]
  },
  {
   "cell_type": "code",
   "execution_count": 5,
   "metadata": {},
   "outputs": [],
   "source": [
    "e._(betterString.at(), \"V\")\n",
    "e._(betterString.at(5), \"G\")"
   ]
  },
  {
   "cell_type": "markdown",
   "metadata": {},
   "source": [
    "`String.prototype.charAt()` => `BetterString().charAt()`\n",
    "\n",
    "<https://developer.mozilla.org/zh-CN/docs/Web/JavaScript/Reference/Global_Objects/String/charAt>"
   ]
  },
  {
   "cell_type": "code",
   "execution_count": 6,
   "metadata": {},
   "outputs": [],
   "source": [
    "e._(betterString.charAt(), \"V\")\n",
    "e._(betterString.charAt(5), \"G\")\n",
    "e._(betterString.charAt(-2), \"\")\n",
    "e._(betterString.charAt(18), \"\")"
   ]
  },
  {
   "cell_type": "markdown",
   "metadata": {},
   "source": [
    "`String.prototype.charCodeAt()` => `BetterString().charCodeAt()`\n",
    "\n",
    "<https://developer.mozilla.org/zh-CN/docs/Web/JavaScript/Reference/Global_Objects/String/charCodeAt>"
   ]
  },
  {
   "cell_type": "code",
   "execution_count": 7,
   "metadata": {},
   "outputs": [],
   "source": [
    "e._(betterString.charCodeAt(), 86)\n",
    "e._(betterString.charCodeAt(5), 71)\n",
    "e._(betterString.charCodeAt(-2), None)\n",
    "e._(betterString.charCodeAt(18), None)"
   ]
  },
  {
   "cell_type": "markdown",
   "metadata": {},
   "source": [
    "`String.prototype.codePointAt()` => `BetterString().codePointAt()`\n",
    "\n",
    "<https://developer.mozilla.org/zh-CN/docs/Web/JavaScript/Reference/Global_Objects/String/codePointAt>"
   ]
  },
  {
   "cell_type": "code",
   "execution_count": 8,
   "metadata": {},
   "outputs": [],
   "source": [
    "e._(betterString.codePointAt(), 86)\n",
    "e._(betterString.codePointAt(5), 71)\n",
    "e._(betterString.codePointAt(-2), None)\n",
    "e._(betterString.codePointAt(18), None)"
   ]
  },
  {
   "cell_type": "markdown",
   "metadata": {},
   "source": [
    "`String.prototype.concat()` => `BetterString().concat()`\n",
    "\n",
    "<https://developer.mozilla.org/zh-CN/docs/Web/JavaScript/Reference/Global_Objects/String/concat>"
   ]
  },
  {
   "cell_type": "code",
   "execution_count": 9,
   "metadata": {},
   "outputs": [],
   "source": [
    "e._(betterString.concat(\" is a\", \" string\"), \"Very Good String is a string\")"
   ]
  },
  {
   "cell_type": "markdown",
   "metadata": {},
   "source": [
    "`String.prototype.endsWith()` => `BetterString().endsWith()`\n",
    "\n",
    "<https://developer.mozilla.org/zh-CN/docs/Web/JavaScript/Reference/Global_Objects/String/endsWith>\n",
    "\n",
    "`String.prototype.startswith()` => `BetterString().startswith()`\n",
    "\n",
    "<https://developer.mozilla.org/zh-CN/docs/Web/JavaScript/Reference/Global_Objects/String/startsWith>"
   ]
  },
  {
   "cell_type": "code",
   "execution_count": 10,
   "metadata": {},
   "outputs": [],
   "source": [
    "e._(betterString.endsWith(\"ring\"), True)\n",
    "e._(betterString.startswith(\"Very G\"), True)"
   ]
  },
  {
   "cell_type": "markdown",
   "metadata": {},
   "source": [
    "`String.fromCharCode()` => `BetterString.fromCharCode()`\n",
    "\n",
    "<https://developer.mozilla.org/zh-CN/docs/Web/JavaScript/Reference/Global_Objects/String/fromCharCode>\n",
    "\n",
    "`String.fromCodePoint()` => `BetterString.fromCodePoint()`\n",
    "\n",
    "<https://developer.mozilla.org/zh-CN/docs/Web/JavaScript/Reference/Global_Objects/String/fromCodePoint>"
   ]
  },
  {
   "cell_type": "code",
   "execution_count": 11,
   "metadata": {},
   "outputs": [],
   "source": [
    "e._(BetterString.fromCharCode(108), \"l\")\n",
    "e._(BetterString.fromCodePoint(108, 109, 113), \"lmq\")"
   ]
  },
  {
   "cell_type": "markdown",
   "metadata": {},
   "source": [
    "`String.prototype.includes()` => `BetterString().includes()`\n",
    "\n",
    "<https://developer.mozilla.org/zh-CN/docs/Web/JavaScript/Reference/Global_Objects/String/includes>"
   ]
  },
  {
   "cell_type": "code",
   "execution_count": 12,
   "metadata": {},
   "outputs": [],
   "source": [
    "e._(betterString.includes(\"Good\"), True)"
   ]
  },
  {
   "cell_type": "markdown",
   "metadata": {},
   "source": [
    "`String.prototype.indexOf()` => `BetterString().indexOf()`\n",
    "\n",
    "<https://developer.mozilla.org/zh-CN/docs/Web/JavaScript/Reference/Global_Objects/String/indexOf>\n",
    "\n",
    "`String.prototype.lastIndexOf()` => `BetterString().lastIndexOf()`\n",
    "\n",
    "<https://developer.mozilla.org/zh-CN/docs/Web/JavaScript/Reference/Global_Objects/String/lastIndexOf>"
   ]
  },
  {
   "cell_type": "code",
   "execution_count": 13,
   "metadata": {},
   "outputs": [],
   "source": [
    "e._(betterString.indexOf(\"Good\"), 5)\n",
    "e._(betterString.indexOf(\"Good\", 6), -1)\n",
    "e._(betterString.indexOf(\"Good\", -5), -1)\n",
    "\n",
    "e._(betterString.lastIndexOf(\"o\"), 7)\n",
    "e._(betterString.lastIndexOf(\"G\"), 5)"
   ]
  },
  {
   "cell_type": "markdown",
   "metadata": {},
   "source": [
    "`String.prototype.match()` => `BetterString().match()`\n",
    "\n",
    "<https://developer.mozilla.org/zh-CN/docs/Web/JavaScript/Reference/Global_Objects/String/match>\n",
    "\n",
    "`String.prototype.matchAll()` => `BetterString().matchAll()`\n",
    "\n",
    "<https://developer.mozilla.org/zh-CN/docs/Web/JavaScript/Reference/Global_Objects/String/matchAll>"
   ]
  },
  {
   "cell_type": "code",
   "execution_count": 14,
   "metadata": {},
   "outputs": [],
   "source": [
    "e._(betterString.match(\"Good\"), [\"Good\"])\n",
    "e._(betterString.match(re.compile(r\"[A-Z]\")), [\"V\", \"G\", \"S\"])\n",
    "\n",
    "e._(betterString.matchAll(\"([A-Z])(.)\"), [['V', 'e'], ['G', 'o'], ['S', 't']])\n",
    "e._(betterString.matchAll(re.compile(r\"([A-Z])\")), [['V'], ['G'], ['S']])"
   ]
  },
  {
   "cell_type": "markdown",
   "metadata": {},
   "source": [
    "`String.prototype.padEnd()` => `BetterString().padEnd()`\n",
    "\n",
    "<https://developer.mozilla.org/zh-CN/docs/Web/JavaScript/Reference/Global_Objects/String/padEnd>\n",
    "\n",
    "`String.prototype.padStart()` => `BetterString().padStart()`\n",
    "\n",
    "<https://developer.mozilla.org/zh-CN/docs/Web/JavaScript/Reference/Global_Objects/String/padStart>"
   ]
  },
  {
   "cell_type": "code",
   "execution_count": 15,
   "metadata": {},
   "outputs": [],
   "source": [
    "e._(betterString.padEnd(10, \"*\"), \"Very Good String\")\n",
    "e._(betterString.padEnd(20, \"*\"), \"Very Good String****\")\n",
    "\n",
    "e._(betterString.padStart(10, \"*\"), \"Very Good String\")\n",
    "e._(betterString.padStart(20, \"*\"), \"****Very Good String\")"
   ]
  },
  {
   "cell_type": "markdown",
   "metadata": {},
   "source": [
    "`String.raw()` => `BetterString.raw()`\n",
    "\n",
    "<https://developer.mozilla.org/zh-CN/docs/Web/JavaScript/Reference/Global_Objects/String/raw>"
   ]
  },
  {
   "cell_type": "code",
   "execution_count": 16,
   "metadata": {},
   "outputs": [],
   "source": [
    "e._(BetterString.raw(\"\\n\\t\"), \"\\\\n\\\\t\")"
   ]
  },
  {
   "cell_type": "markdown",
   "metadata": {},
   "source": [
    "`String.prototype.repeat()` => `BetterString().repeat()`\n",
    "\n",
    "<https://developer.mozilla.org/zh-CN/docs/Web/JavaScript/Reference/Global_Objects/String/repeat>"
   ]
  },
  {
   "cell_type": "code",
   "execution_count": 17,
   "metadata": {},
   "outputs": [],
   "source": [
    "e._(betterString.repeat(3), \"Very Good StringVery Good StringVery Good String\")"
   ]
  },
  {
   "cell_type": "markdown",
   "metadata": {},
   "source": [
    "`String.prototype.replace()` => `BetterString().replace()`\n",
    "\n",
    "<https://developer.mozilla.org/zh-CN/docs/Web/JavaScript/Reference/Global_Objects/String/replace>\n",
    "\n",
    "`String.prototype.replaceAll()` => `BetterString().replaceAll()`\n",
    "\n",
    "<https://developer.mozilla.org/zh-CN/docs/Web/JavaScript/Reference/Global_Objects/String/replaceAll>"
   ]
  },
  {
   "cell_type": "code",
   "execution_count": 18,
   "metadata": {},
   "outputs": [],
   "source": [
    "e._(betterString.replace(\"o\", \"good\"), \"Very Ggoodod String\")\n",
    "\n",
    "e._(betterString.replaceAll(\"o\", \"good\"), \"Very Ggoodgoodd String\")"
   ]
  },
  {
   "cell_type": "markdown",
   "metadata": {},
   "source": [
    "`String.prototype.search()` => `BetterString().search()`\n",
    "\n",
    "<https://developer.mozilla.org/zh-CN/docs/Web/JavaScript/Reference/Global_Objects/String/search>"
   ]
  },
  {
   "cell_type": "code",
   "execution_count": 19,
   "metadata": {},
   "outputs": [],
   "source": [
    "e._(betterString.search(\"o\"), 6)"
   ]
  },
  {
   "cell_type": "markdown",
   "metadata": {},
   "source": [
    "`String.prototype.slice()` => `BetterString().slice()`\n",
    "\n",
    "<https://developer.mozilla.org/zh-CN/docs/Web/JavaScript/Reference/Global_Objects/String/slice>"
   ]
  },
  {
   "cell_type": "code",
   "execution_count": 20,
   "metadata": {},
   "outputs": [],
   "source": [
    "e._(betterString.slice(5), \"Good String\")\n",
    "e._(betterString.slice(5, 9), \"Good\")\n",
    "e._(betterString.slice(-5), \"tring\")\n",
    "e._(betterString.slice(-5, -2), \"tri\")"
   ]
  },
  {
   "cell_type": "markdown",
   "metadata": {},
   "source": [
    "`String.prototype.split()` => `BetterString().split()`\n",
    "\n",
    "<https://developer.mozilla.org/zh-CN/docs/Web/JavaScript/Reference/Global_Objects/String/split>"
   ]
  },
  {
   "cell_type": "code",
   "execution_count": 21,
   "metadata": {},
   "outputs": [],
   "source": [
    "e._(betterString.split(\" \"), ['Very', 'Good', 'String'])\n",
    "e._(betterString.split(\" \", 2), ['Very', 'Good'])"
   ]
  },
  {
   "cell_type": "markdown",
   "metadata": {},
   "source": [
    "`String.prototype.startswith()` => `BetterString().startswith()`\n",
    "\n",
    "<https://developer.mozilla.org/en-US/docs/Web/JavaScript/Reference/Global_Objects/String/startsWith>"
   ]
  },
  {
   "cell_type": "code",
   "execution_count": 22,
   "metadata": {},
   "outputs": [],
   "source": [
    "e._(betterString.startswith(\"Very\"), True)\n",
    "e._(betterString.startswith(\"very\"), False)"
   ]
  },
  {
   "cell_type": "markdown",
   "metadata": {},
   "source": [
    "`String.prototype.substring()` => `BetterString().substring()`\n",
    "\n",
    "<https://developer.mozilla.org/en-US/docs/Web/JavaScript/Reference/Global_Objects/String/substring>"
   ]
  },
  {
   "cell_type": "code",
   "execution_count": 23,
   "metadata": {},
   "outputs": [],
   "source": [
    "e._(betterString.substring(1, 4), \"ery\")\n",
    "e._(betterString.substring(3), \"y Good String\")"
   ]
  },
  {
   "cell_type": "markdown",
   "metadata": {},
   "source": [
    "`String.prototype.toLowerCase()` => `BetterString().toLowerCase()`\n",
    "\n",
    "<https://developer.mozilla.org/en-US/docs/Web/JavaScript/Reference/Global_Objects/String/toLowerCase>\n",
    "\n",
    "`String.prototype.toUpperCase()` => `BetterString().toUpperCase()`\n",
    "\n",
    "<https://developer.mozilla.org/en-US/docs/Web/JavaScript/Reference/Global_Objects/String/toUpperCase>"
   ]
  },
  {
   "cell_type": "code",
   "execution_count": 24,
   "metadata": {},
   "outputs": [],
   "source": [
    "e._(betterString.toLowerCase(), \"very good string\")\n",
    "e._(betterString.toUpperCase(), \"VERY GOOD STRING\")"
   ]
  },
  {
   "cell_type": "markdown",
   "metadata": {},
   "source": [
    "`String.prototype.toString()` => `BetterString().toString()`\n",
    "\n",
    "<https://developer.mozilla.org/en-US/docs/Web/JavaScript/Reference/Global_Objects/String/toString>\n",
    "\n",
    "`String.prototype.valueOf()` => `BetterString().valueOf()`\n",
    "\n",
    "<https://developer.mozilla.org/en-US/docs/Web/JavaScript/Reference/Global_Objects/String/valueOf>"
   ]
  },
  {
   "cell_type": "code",
   "execution_count": 25,
   "metadata": {},
   "outputs": [],
   "source": [
    "e._(betterString.toString(), \"Very Good String\")\n",
    "e._(isinstance(betterString.toString(), str), True)\n",
    "e._(isinstance(betterString.toString(), BetterString), False)\n",
    "\n",
    "e._(betterString.valueOf(), \"Very Good String\")\n",
    "e._(isinstance(betterString.valueOf(), str), True)\n",
    "e._(isinstance(betterString.valueOf(), BetterString), False)"
   ]
  },
  {
   "cell_type": "markdown",
   "metadata": {},
   "source": [
    "`String.prototype.trim()` => `BetterString().trim()`\n",
    "\n",
    "<https://developer.mozilla.org/en-US/docs/Web/JavaScript/Reference/Global_Objects/String/trim>\n",
    "\n",
    "`String.prototype.trimEnd()` => `BetterString().trimEnd()`\n",
    "\n",
    "<https://developer.mozilla.org/en-US/docs/Web/JavaScript/Reference/Global_Objects/String/trimEnd>\n",
    "\n",
    "`String.prototype.trimStart()` => `BetterString().trimStart()`\n",
    "\n",
    "<https://developer.mozilla.org/en-US/docs/Web/JavaScript/Reference/Global_Objects/String/trimStart>"
   ]
  },
  {
   "cell_type": "code",
   "execution_count": 26,
   "metadata": {},
   "outputs": [],
   "source": [
    "betterString_trim = BetterString(\"  Very Good String \\n\\t \")\n",
    "\n",
    "e._(betterString_trim.trim(), \"Very Good String\")\n",
    "e._(betterString_trim.trimStart(), \"Very Good String \\n\\t \")\n",
    "e._(betterString_trim.trimEnd(), \"  Very Good String\")"
   ]
  }
 ],
 "metadata": {
  "kernelspec": {
   "display_name": "Python 3",
   "language": "python",
   "name": "python3"
  },
  "language_info": {
   "codemirror_mode": {
    "name": "ipython",
    "version": 3
   },
   "file_extension": ".py",
   "mimetype": "text/x-python",
   "name": "python",
   "nbconvert_exporter": "python",
   "pygments_lexer": "ipython3",
   "version": "3.11.4"
  }
 },
 "nbformat": 4,
 "nbformat_minor": 2
}
