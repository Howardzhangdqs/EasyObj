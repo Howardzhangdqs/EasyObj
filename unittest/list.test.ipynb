{
 "cells": [
  {
   "cell_type": "code",
   "execution_count": null,
   "metadata": {},
   "outputs": [],
   "source": [
    "from test import Expect\n",
    "from EasyObj import BetterList"
   ]
  },
  {
   "cell_type": "markdown",
   "metadata": {},
   "source": [
    "The `Expect` here is not very useful. It simply checks if the two parameters passed in are the same. If they are different, it outputs the differences; if they are the same, it does nothing."
   ]
  },
  {
   "cell_type": "code",
   "execution_count": null,
   "metadata": {},
   "outputs": [],
   "source": [
    "e = Expect(\"Basic\", showTimes=True, log=False)\n",
    "\n",
    "betterList = BetterList([1, 1, 4, 5, 1, 4])"
   ]
  },
  {
   "cell_type": "markdown",
   "metadata": {},
   "source": [
    "The `BetterList` class inherits from the `list` class, so it can be directly compared with `list` objects."
   ]
  },
  {
   "cell_type": "code",
   "execution_count": null,
   "metadata": {},
   "outputs": [],
   "source": [
    "e._(betterList == [1, 1, 4, 5, 1, 4], True)"
   ]
  },
  {
   "cell_type": "markdown",
   "metadata": {},
   "source": [
    "`BetterList` can directly access the length of the list through a property."
   ]
  },
  {
   "cell_type": "code",
   "execution_count": null,
   "metadata": {},
   "outputs": [],
   "source": [
    "e._(betterList.length, 6)"
   ]
  },
  {
   "cell_type": "markdown",
   "metadata": {},
   "source": [
    "Here are some other operations supported by `EasyObj.BetterList`:"
   ]
  },
  {
   "cell_type": "markdown",
   "metadata": {},
   "source": [
    "`Array.prototype.at()`\n",
    "\n",
    "<https://developer.mozilla.org/en-US/docs/Web/JavaScript/Reference/Global_Objects/Array/at>"
   ]
  },
  {
   "cell_type": "code",
   "execution_count": null,
   "metadata": {},
   "outputs": [],
   "source": [
    "e._(BetterList([1, 2, 5]).at(1), 2)"
   ]
  },
  {
   "cell_type": "markdown",
   "metadata": {},
   "source": [
    "`Array.prototype.concat()`\n",
    "\n",
    "<https://developer.mozilla.org/en-US/docs/Web/JavaScript/Reference/Global_Objects/Array/concat>"
   ]
  },
  {
   "cell_type": "code",
   "execution_count": null,
   "metadata": {},
   "outputs": [],
   "source": [
    "e._(BetterList([1, 2, 5]).concat([3, 4]), [1, 2, 5, 3, 4])"
   ]
  },
  {
   "cell_type": "markdown",
   "metadata": {},
   "source": [
    "`Array.prototype.copyWithin()`\n",
    "\n",
    "<https://developer.mozilla.org/en-US/docs/Web/JavaScript/Reference/Global_Objects/Array/copyWithin>"
   ]
  },
  {
   "cell_type": "code",
   "execution_count": null,
   "metadata": {},
   "outputs": [],
   "source": [
    "e._(BetterList([1, 2, 3, 4, 5]).copyWithin(0, 3), [4, 5, 3, 4, 5])\n",
    "e._(BetterList([1, 2, 3, 4, 5]).copyWithin(1, 3), [1, 4, 5, 4, 5])\n",
    "e._(BetterList([1, 2, 3, 4, 5]).copyWithin(1, 2), [1, 3, 4, 5, 5])\n",
    "e._(BetterList([1, 2, 3, 4, 5]).copyWithin(2, 2), [1, 2, 3, 4, 5])\n",
    "e._(BetterList([1, 2, 3, 4, 5]).copyWithin(0, 3, 4), [4, 2, 3, 4, 5])\n",
    "e._(BetterList([1, 2, 3, 4, 5]).copyWithin(1, 3, 4), [1, 4, 3, 4, 5])\n",
    "e._(BetterList([1, 2, 3, 4, 5]).copyWithin(1, 2, 4), [1, 3, 4, 4, 5])\n",
    "e._(BetterList([1, 2, 3, 4, 5]).copyWithin(0, -2), [4, 5, 3, 4, 5])\n",
    "e._(BetterList([1, 2, 3, 4, 5]).copyWithin(0, -2, -1), [4, 2, 3, 4, 5])\n",
    "e._(BetterList([1, 2, 3, 4, 5]).copyWithin(-4, -3, -2), [1, 3, 3, 4, 5])\n",
    "e._(BetterList([1, 2, 3, 4, 5]).copyWithin(-4, -3, -1), [1, 3, 4, 4, 5])\n",
    "e._(BetterList([1, 2, 3, 4, 5]).copyWithin(-4, -3), [1, 3, 4, 5, 5])"
   ]
  },
  {
   "cell_type": "markdown",
   "metadata": {},
   "source": [
    "\n",
    "`Array.prototype.entries()`\n",
    "\n",
    "<https://developer.mozilla.org/en-US/docs/Web/JavaScript/Reference/Global_Objects/Array/entries>\n"
   ]
  },
  {
   "cell_type": "code",
   "execution_count": null,
   "metadata": {},
   "outputs": [],
   "source": [
    "e._(BetterList(['a', 'b', 'c']).entries(), [(0, 'a'), (1, 'b'), (2, 'c')])\n",
    "e._(BetterList([1, 2, 3]).entries(), [(0, 1), (1, 2), (2, 3)])"
   ]
  },
  {
   "cell_type": "markdown",
   "metadata": {},
   "source": [
    "\n",
    "`Array.prototype.every()`\n",
    "\n",
    "<https://developer.mozilla.org/en-US/docs/Web/JavaScript/Reference/Global_Objects/Array/every>\n"
   ]
  },
  {
   "cell_type": "code",
   "execution_count": null,
   "metadata": {},
   "outputs": [],
   "source": [
    "e._(BetterList([1, 2, 5]).every(lambda x: x > 2), False)\n",
    "e._(BetterList([1, 2, 5]).every(lambda x: x > 0), True)"
   ]
  },
  {
   "cell_type": "markdown",
   "metadata": {},
   "source": [
    "\n",
    "`Array.prototype.fill()`\n",
    "\n",
    "<https://developer.mozilla.org/en-US/docs/Web/JavaScript/Reference/Global_Objects/Array/fill>"
   ]
  },
  {
   "cell_type": "code",
   "execution_count": null,
   "metadata": {},
   "outputs": [],
   "source": [
    "betterList = BetterList([1, 2, 5])\n",
    "betterList.fill(3)\n",
    "e._(betterList, [3, 3, 3])\n",
    "\n",
    "betterList = BetterList([1, 2, 5])\n",
    "betterList.fill(3, 1)\n",
    "e._(betterList, [1, 3, 3])\n",
    "\n",
    "betterList = BetterList([1, 2, 5])\n",
    "betterList.fill(3, 1, 2)\n",
    "e._(betterList, [1, 3, 5])"
   ]
  },
  {
   "cell_type": "markdown",
   "metadata": {},
   "source": [
    "\n",
    "`Array.prototype.filter()`\n",
    "\n",
    "<https://developer.mozilla.org/en-US/docs/Web/JavaScript/Reference/Global_Objects/Array/filter>\n"
   ]
  },
  {
   "cell_type": "code",
   "execution_count": null,
   "metadata": {},
   "outputs": [],
   "source": [
    "e._(BetterList([1, 2, 5]).filter(lambda x: x > 2), [5])"
   ]
  },
  {
   "cell_type": "markdown",
   "metadata": {},
   "source": [
    "`Array.prototype.find()`\n",
    "\n",
    "<https://developer.mozilla.org/en-US/docs/Web/JavaScript/Reference/Global_Objects/Array/find>\n",
    "\n",
    "\n",
    "`Array.prototype.findIndex()`\n",
    "\n",
    "<https://developer.mozilla.org/en-US/docs/Web/JavaScript/Reference/Global_Objects/Array/findIndex>\n",
    "\n",
    "`Array.prototype.findLast()`\n",
    "\n",
    "<https://developer.mozilla.org/en-US/docs/Web/JavaScript/Reference/Global_Objects/Array/findLast>\n",
    "\n",
    "`Array.prototype.findLastIndex()`\n",
    "\n",
    "<https://developer.mozilla.org/en-US/docs/Web/JavaScript/Reference/Global_Objects/Array/findLastIndex>"
   ]
  },
  {
   "cell_type": "code",
   "execution_count": null,
   "metadata": {},
   "outputs": [],
   "source": [
    "e._(BetterList([1, 2, 5]).find(lambda x: x > 2), 5)\n",
    "e._(BetterList([1, 2, 5]).find(lambda x: x > 10), None)\n",
    "\n",
    "e._(BetterList([1, 2, 5]).findIndex(lambda x: x > 2), 2)\n",
    "e._(BetterList([1, 2, 5]).findIndex(lambda x: x > 10), -1)\n",
    "\n",
    "e._(BetterList([1, 2, 5]).findLast(lambda x: x > 2), 5)\n",
    "e._(BetterList([1, 2, 5]).findLast(lambda x: x > 10), None)\n",
    "\n",
    "e._(BetterList([1, 2, 5,]).findLastIndex(lambda x: x > 2), 2)\n",
    "e._(BetterList([1, 2, 5]).findLastIndex(lambda x: x > 10), -1)"
   ]
  },
  {
   "cell_type": "markdown",
   "metadata": {},
   "source": [
    "`Array.prototype.flat()`\n",
    "\n",
    "<https://developer.mozilla.org/en-US/docs/Web/JavaScript/Reference/Global_Objects/Array/flat>\n",
    "\n",
    "`Array.prototype.flatMap()`\n",
    "\n",
    "<https://developer.mozilla.org/en-US/docs/Web/JavaScript/Reference/Global_Objects/Array/flatMap>"
   ]
  },
  {
   "cell_type": "code",
   "execution_count": null,
   "metadata": {},
   "outputs": [],
   "source": [
    "\n",
    "e._(BetterList([1, 2, 5, [3, 4]]).flat(), [1, 2, 5, 3, 4])\n",
    "e._(BetterList([1, 2, 5, [3, [4]]]).flat(), [1, 2, 5, 3, [4]])\n",
    "e._(BetterList([1, 2, 5, [3, [4]]]).flat(2), [1, 2, 5, 3, 4])\n",
    "e._(BetterList([1, 2, [5, [3, [4]]]]).flat(2), [1, 2, 5, 3, [4]])\n",
    "e._(BetterList([1, 2, [5, [3, [4]]]]).flat(4), [1, 2, 5, 3, 4])\n",
    "\n",
    "e._(BetterList([1, 2, 3, 4]).flatMap(lambda x: [x, x * 2]),\n",
    "    [1, 2, 2, 4, 3, 6, 4, 8])\n",
    "e._(BetterList([1, 2, 3, 4]).flatMap(lambda x: [[x, x * 2]]),\n",
    "    [[1, 2], [2, 4], [3, 6], [4, 8]])\n",
    "e._(BetterList([1, 2, 3, 4]).flatMap(lambda x: [x, [x * 2]]),\n",
    "    [1, [2], 2, [4], 3, [6], 4, [8]])"
   ]
  },
  {
   "cell_type": "markdown",
   "metadata": {},
   "source": [
    "\n",
    "`Array.prototype.forEach()`\n",
    "\n",
    "<https://developer.mozilla.org/en-US/docs/Web/JavaScript/Reference/Global_Objects/Array/forEach>\n"
   ]
  },
  {
   "cell_type": "code",
   "execution_count": null,
   "metadata": {},
   "outputs": [],
   "source": [
    "normalList = []\n",
    "BetterList([6, 2, 9]).forEach(lambda val, index: normalList.append((val, index)))\n",
    "e._(normalList, [(6, 0), (2, 1), (9, 2)])\n",
    "\n",
    "normalList = []\n",
    "BetterList([6, 2, 9]).forEach(\n",
    "    lambda val: normalList.append(val), noIndex=True)\n",
    "e._(normalList, [6, 2, 9])"
   ]
  },
  {
   "cell_type": "markdown",
   "metadata": {},
   "source": [
    "`Array.from()` => `EasyObj.BetterList._from()`\n",
    "\n",
    "<https://developer.mozilla.org/en-US/docs/Web/JavaScript/Reference/Global_Objects/Array/from>\n"
   ]
  },
  {
   "cell_type": "code",
   "execution_count": null,
   "metadata": {},
   "outputs": [],
   "source": [
    "e._(BetterList._from([1, 2, 3, 4]), [1, 2, 3, 4])\n",
    "e._(BetterList._from([]), [])"
   ]
  },
  {
   "cell_type": "markdown",
   "metadata": {},
   "source": [
    "\n",
    "`Array.prototype.includes()`\n",
    "\n",
    "<https://developer.mozilla.org/en-US/docs/Web/JavaScript/Reference/Global_Objects/Array/includes>\n"
   ]
  },
  {
   "cell_type": "code",
   "execution_count": null,
   "metadata": {},
   "outputs": [],
   "source": [
    "e._(BetterList([1, 2, 3, -0, object]).includes(1), True)\n",
    "e._(BetterList([1, 2, 3, -0, object]).includes(-0), True)\n",
    "e._(BetterList([1, 2, 3, -0, object]).includes(0), True)\n",
    "e._(BetterList([1, 2, 3, -0, object]).includes(object), True)\n",
    "e._(BetterList([1, 2, 3, -0, object]).includes(4), False)\n",
    "e._(BetterList([1, 2, 3, -0, object]).includes(-0.5), False)\n",
    "e._(BetterList([1, 2, 3, -0, object]).includes({}), False)\n",
    "e._(BetterList([1, 2, 3, -0, object]).includes(None), False)\n",
    "e._(BetterList([None]).includes(None), True)"
   ]
  },
  {
   "cell_type": "markdown",
   "metadata": {},
   "source": [
    "\n",
    "`Array.prototype.indexOf()`\n",
    "\n",
    "<https://developer.mozilla.org/en-US/docs/Web/JavaScript/Reference/Global_Objects/Array/indexOf>\n",
    "\n",
    "`Array.prototype.lastIndexOf()`\n",
    "\n",
    "<https://developer.mozilla.org/en-US/docs/Web/JavaScript/Reference/Global_Objects/Array/lastIndexOf>\n"
   ]
  },
  {
   "cell_type": "code",
   "execution_count": null,
   "metadata": {},
   "outputs": [],
   "source": [
    "e._(BetterList([1, 1, 1]).indexOf(1), 0)\n",
    "e._(BetterList([1, 2, 3]).indexOf(1, 1), -1)\n",
    "e._(BetterList([1, 2, 3]).indexOf(2, 1), 1)\n",
    "e._(BetterList([1, 2, 3]).indexOf(2, -1), -1)\n",
    "e._(BetterList([1, 2, 3]).indexOf(2, -2), 1)\n",
    "e._(BetterList([None]).indexOf(None), 0)\n",
    "\n",
    "e._(BetterList([1, 2, 3, 4, 5, 6, 7, 8, 9, 1]).lastIndexOf(1), 9)\n",
    "e._(BetterList([1, 2, 3, 4, 5, 6, 7, 8, 9, 1]).lastIndexOf(1, 8), 0)\n",
    "e._(BetterList([1, 2, 3, 4, 5, 6, 7, 8, 1, 9]).lastIndexOf(1, 7), 0)\n",
    "e._(BetterList([1, 2, 3, 4, 5, 6, 7, 8, 1, 9]).lastIndexOf(10), -1)\n",
    "e._(BetterList([1, 2, 3, 4, 5, 6, 7, 8, 9, 1]).lastIndexOf(1, 9), 9)"
   ]
  },
  {
   "cell_type": "markdown",
   "metadata": {},
   "source": [
    "\n",
    "`Array.isArray()`\n",
    "\n",
    "<https://developer.mozilla.org/en-US/docs/Web/JavaScript/Reference/Global_Objects/Array/isArray>\n"
   ]
  },
  {
   "cell_type": "code",
   "execution_count": null,
   "metadata": {},
   "outputs": [],
   "source": [
    "e._(BetterList.isArray([]), True)\n",
    "e._(BetterList.isArray([1, 2, 3]), True)\n",
    "e._(BetterList.isArray({}), False)\n",
    "e._(BetterList.isArray(None), False)\n",
    "e._(BetterList.isArray(1), False)\n",
    "e._(BetterList.isArray(\"1\"), False)"
   ]
  },
  {
   "cell_type": "markdown",
   "metadata": {},
   "source": [
    "`Array.prototype.join()`\n",
    "\n",
    "<https://developer.mozilla.org/en-US/docs/Web/JavaScript/Reference/Global_Objects/Array/join>\n"
   ]
  },
  {
   "cell_type": "code",
   "execution_count": null,
   "metadata": {},
   "outputs": [],
   "source": [
    "e._(BetterList(['a', 'b', 'c']).join(), \"a,b,c\")\n",
    "e._(BetterList([1, 2, 3]).join(), \"1,2,3\")\n",
    "e._(BetterList([1, 2, 3]).join(\"\"), \"123\")\n",
    "e._(BetterList([1, 2, 3]).join(\" \"), \"1 2 3\")\n",
    "e._(BetterList([1, 2, 3]).join(\"a\"), \"1a2a3\")\n",
    "e._(BetterList([1, 2, 3]).join(None), \"1None2None3\")"
   ]
  },
  {
   "cell_type": "markdown",
   "metadata": {},
   "source": [
    "`Array.prototype.keys()`\n",
    "\n",
    "<https://developer.mozilla.org/en-US/docs/Web/JavaScript/Reference/Global_Objects/Array/keys>\n"
   ]
  },
  {
   "cell_type": "code",
   "execution_count": null,
   "metadata": {},
   "outputs": [],
   "source": [
    "e._(BetterList(['a', 'b', 'c']).keys(), [0, 1, 2])\n",
    "e._(BetterList([1, 2, 3]).keys(), [0, 1, 2])"
   ]
  },
  {
   "cell_type": "markdown",
   "metadata": {},
   "source": [
    "`Array.prototype.map()`\n",
    "\n",
    "<https://developer.mozilla.org/en-US/docs/Web/JavaScript/Reference/Global_Objects/Array/map>"
   ]
  },
  {
   "cell_type": "code",
   "execution_count": null,
   "metadata": {},
   "outputs": [],
   "source": [
    "e._(BetterList([1, 2, 5]).map(lambda x: x * 2), [2, 4, 10])"
   ]
  },
  {
   "cell_type": "markdown",
   "metadata": {},
   "source": [
    "`Array.of()`\n",
    "\n",
    "<https://developer.mozilla.org/en-US/docs/Web/JavaScript/Reference/Global_Objects/Array/of>\n"
   ]
  },
  {
   "cell_type": "code",
   "execution_count": null,
   "metadata": {},
   "outputs": [],
   "source": [
    "e._(BetterList.of(1, 2, 3, 4), [1, 2, 3, 4])"
   ]
  },
  {
   "cell_type": "markdown",
   "metadata": {},
   "source": [
    "`Array.prototype.pop()`\n",
    "\n",
    "<https://developer.mozilla.org/en-US/docs/Web/JavaScript/Reference/Global_Objects/Array/pop>\n",
    "\n",
    "`Array.prototype.push()`\n",
    "\n",
    "<https://developer.mozilla.org/en-US/docs/Web/JavaScript/Reference/Global_Objects/Array/push>\n"
   ]
  },
  {
   "cell_type": "code",
   "execution_count": null,
   "metadata": {},
   "outputs": [],
   "source": [
    "betterList = BetterList([1, 2, 3, 4])\n",
    "e._(betterList.pop(), 4)\n",
    "e._(betterList, [1, 2, 3])\n",
    "\n",
    "betterList = BetterList([1, 2, 3, 4])\n",
    "e._(betterList.push(5), 5)\n",
    "e._(betterList, [1, 2, 3, 4, 5])"
   ]
  },
  {
   "cell_type": "markdown",
   "metadata": {},
   "source": [
    "\n",
    "`Array.prototype.reduce()`\n",
    "\n",
    "<https://developer.mozilla.org/en-US/docs/Web/JavaScript/Reference/Global_Objects/Array/reduce>\n",
    "\n",
    "`Array.prototype.reduceRight()`\n",
    "\n",
    "<https://developer.mozilla.org/en-US/docs/Web/JavaScript/Reference/Global_Objects/Array/reduceRight>\n"
   ]
  },
  {
   "cell_type": "code",
   "execution_count": null,
   "metadata": {},
   "outputs": [],
   "source": [
    "e._(BetterList([1, 2, 5]).reduce(lambda x, y: x + y), 8)\n",
    "e._(BetterList([1, 2, 5]).reduce(lambda x, y: x + y, 10), 18)\n",
    "\n",
    "e._(BetterList([1, 2, 5]).reduceRight(lambda x, y: x + y), 8)\n",
    "e._(BetterList([1, 2, 5]).reduceRight(lambda x, y: x + y, 10), 18)"
   ]
  },
  {
   "cell_type": "markdown",
   "metadata": {},
   "source": [
    "\n",
    "`Array.prototype.reverse()`\n",
    "\n",
    "<https://developer.mozilla.org/en-US/docs/Web/JavaScript/Reference/Global_Objects/Array/reverse>\n"
   ]
  },
  {
   "cell_type": "code",
   "execution_count": null,
   "metadata": {},
   "outputs": [],
   "source": [
    "e._(BetterList([1, 2, 5]).reverse(), [5, 2, 1])"
   ]
  },
  {
   "cell_type": "markdown",
   "metadata": {},
   "source": [
    "`Array.prototype.shift()`\n",
    "\n",
    "<https://developer.mozilla.org/en-US/docs/Web/JavaScript/Reference/Global_Objects/Array/shift>\n"
   ]
  },
  {
   "cell_type": "code",
   "execution_count": null,
   "metadata": {},
   "outputs": [],
   "source": [
    "betterList = BetterList([1, 2, 3, 4])\n",
    "e._(betterList.shift(), 1)\n",
    "e._(betterList, [2, 3, 4])"
   ]
  },
  {
   "cell_type": "markdown",
   "metadata": {},
   "source": [
    "\n",
    "`Array.prototype.slice()`\n",
    "\n",
    "<https://developer.mozilla.org/en-US/docs/Web/JavaScript/Reference/Global_Objects/Array/slice>\n"
   ]
  },
  {
   "cell_type": "code",
   "execution_count": null,
   "metadata": {},
   "outputs": [],
   "source": [
    "e._(BetterList([1, 2, 3, 4]).slice(), [1, 2, 3, 4])\n",
    "e._(BetterList([1, 2, 3, 4]).slice(1), [2, 3, 4])\n",
    "e._(BetterList([1, 2, 3, 4]).slice(1, 2), [2])\n",
    "e._(BetterList([1, 2, 3, 4]).slice(1, 3), [2, 3])\n",
    "e._(BetterList([1, 2, 3, 4]).slice(1, 4), [2, 3, 4])\n",
    "e._(BetterList([1, 2, 3, 4]).slice(1, 5), [2, 3, 4])\n",
    "e._(BetterList([1, 2, 3, 4]).slice(1, 0), [])\n",
    "e._(BetterList([1, 2, 3, 4]).slice(1, -1), [2, 3])\n",
    "e._(BetterList([1, 2, 3, 4]).slice(1, -2), [2])"
   ]
  },
  {
   "cell_type": "markdown",
   "metadata": {},
   "source": [
    "`Array.prototype.some()`\n",
    "\n",
    "<https://developer.mozilla.org/en-US/docs/Web/JavaScript/Reference/Global_Objects/Array/some>\n"
   ]
  },
  {
   "cell_type": "code",
   "execution_count": null,
   "metadata": {},
   "outputs": [],
   "source": [
    "e._(BetterList([1, 2, 3, 4]).some(lambda x: x > 2), True)\n",
    "e._(BetterList([1, 2, 3, 4]).some(lambda x: x > 4), False)"
   ]
  },
  {
   "cell_type": "markdown",
   "metadata": {},
   "source": [
    "\n",
    "`Array.prototype.sort()`\n",
    "\n",
    "<https://developer.mozilla.org/en-US/docs/Web/JavaScript/Reference/Global_Objects/Array/sort>\n"
   ]
  },
  {
   "cell_type": "code",
   "execution_count": null,
   "metadata": {},
   "outputs": [],
   "source": [
    "betterList = BetterList([1, 3, 2, 4])\n",
    "e._(betterList.sort(), [1, 2, 3, 4])\n",
    "e._(betterList, [1, 2, 3, 4])\n",
    "\n",
    "betterList = BetterList([1, 2, 3, 4])\n",
    "e._(betterList.sort(lambda x, y: y - x), [4, 3, 2, 1])"
   ]
  },
  {
   "cell_type": "markdown",
   "metadata": {},
   "source": [
    "\n",
    "`Array.prototype.splice()`\n",
    "\n",
    "<https://developer.mozilla.org/en-US/docs/Web/JavaScript/Reference/Global_Objects/Array/splice>\n"
   ]
  },
  {
   "cell_type": "code",
   "execution_count": null,
   "metadata": {},
   "outputs": [],
   "source": [
    "betterList = BetterList([1, 2, 3, 4])\n",
    "e._(betterList.splice(), [])\n",
    "e._(betterList, [1, 2, 3, 4])\n",
    "\n",
    "betterList = BetterList([1, 2, 3, 4])\n",
    "e._(betterList.splice(1), [2, 3, 4])\n",
    "e._(betterList, [1])\n",
    "\n",
    "betterList = BetterList([1, 2, 3, 4])\n",
    "e._(betterList.splice(1, 2), [2, 3])\n",
    "e._(betterList, [1, 4])\n",
    "\n",
    "betterList = BetterList([1, 2, 3, 4])\n",
    "e._(betterList.splice(1, 2, 5), [2, 3])\n",
    "e._(betterList, [1, 5, 4])\n",
    "\n",
    "betterList = BetterList([1, 2, 3, 4])\n",
    "e._(betterList.splice(1, 2, 5, 6), [2, 3])\n",
    "e._(betterList, [1, 5, 6, 4])\n",
    "\n",
    "betterList = BetterList([1, 2, 3, 4])\n",
    "e._(betterList.splice(1, 2, 5, 6, 7), [2, 3])\n",
    "e._(betterList, [1, 5, 6, 7, 4])\n",
    "\n",
    "betterList = BetterList([1, 2, 3, 4])\n",
    "e._(betterList.splice(1, 2, 5, 6, 7, 8), [2, 3])\n",
    "e._(betterList, [1, 5, 6, 7, 8, 4])"
   ]
  },
  {
   "cell_type": "markdown",
   "metadata": {},
   "source": [
    "\n",
    "`Array.prototype.toReversed()`\n",
    "\n",
    "<https://developer.mozilla.org/en-US/docs/Web/JavaScript/Reference/Global_Objects/Array/toReversed>\n"
   ]
  },
  {
   "cell_type": "code",
   "execution_count": null,
   "metadata": {},
   "outputs": [],
   "source": [
    "betterList = BetterList([1, 1, 4, 5, 1, 4])\n",
    "e._(betterList.toReversed(), [4, 1, 5, 4, 1, 1])\n",
    "e._(betterList, [1, 1, 4, 5, 1, 4])"
   ]
  },
  {
   "cell_type": "markdown",
   "metadata": {},
   "source": [
    "`Array.prototype.toSorted()`\n",
    "\n",
    "<https://developer.mozilla.org/en-US/docs/Web/JavaScript/Reference/Global_Objects/Array/toSorted>\n"
   ]
  },
  {
   "cell_type": "code",
   "execution_count": null,
   "metadata": {},
   "outputs": [],
   "source": [
    "betterList = BetterList([1, 1, 4, 5, 1, 4])\n",
    "sortedBetterList = betterList.toSorted(lambda a, b: a - b)\n",
    "e._(sortedBetterList, [1, 1, 1, 4, 4, 5])\n",
    "e._(betterList, [1, 1, 4, 5, 1, 4])"
   ]
  },
  {
   "cell_type": "markdown",
   "metadata": {},
   "source": [
    "`Array.prototype.toSpliced()`\n",
    "\n",
    "<https://developer.mozilla.org/en-US/docs/Web/JavaScript/Reference/Global_Objects/Array/toSpliced>\n"
   ]
  },
  {
   "cell_type": "code",
   "execution_count": null,
   "metadata": {},
   "outputs": [],
   "source": [
    "betterList = BetterList([1, 3, 4, 6])\n",
    "e._(betterList.toSpliced(1, 2), [1, 6])\n",
    "e._(betterList, [1, 3, 4, 6])"
   ]
  },
  {
   "cell_type": "markdown",
   "metadata": {},
   "source": [
    "`Array.prototype.toString()`\n",
    "\n",
    "<https://developer.mozilla.org/en-US/docs/Web/JavaScript/Reference/Global_Objects/Array/toString>\n"
   ]
  },
  {
   "cell_type": "code",
   "execution_count": null,
   "metadata": {},
   "outputs": [],
   "source": [
    "e._(BetterList(['a', 'b', 'c']).toString(), \"a,b,c\")\n",
    "e._(BetterList([1, 2, 3]).toString(), \"1,2,3\")"
   ]
  },
  {
   "cell_type": "markdown",
   "metadata": {},
   "source": [
    "\n",
    "`Array.prototype.unshift()`\n",
    "\n",
    "<https://developer.mozilla.org/en-US/docs/Web/JavaScript/Reference/Global_Objects/Array/unshift>\n"
   ]
  },
  {
   "cell_type": "code",
   "execution_count": null,
   "metadata": {},
   "outputs": [],
   "source": [
    "betterList = BetterList([1, 2, 3, 4])\n",
    "e._(betterList.unshift(5, 6), 6)\n",
    "e._(betterList, [5, 6, 1, 2, 3, 4])"
   ]
  },
  {
   "cell_type": "markdown",
   "metadata": {},
   "source": [
    "`Array.prototype.values()`\n",
    "\n",
    "<https://developer.mozilla.org/en-US/docs/Web/JavaScript/Reference/Global_Objects/Array/values>\n"
   ]
  },
  {
   "cell_type": "code",
   "execution_count": null,
   "metadata": {},
   "outputs": [],
   "source": [
    "betterList = BetterList([1, 1, 4, 5, 1, 4])\n",
    "\n",
    "betterListValue = betterList.values()\n",
    "\n",
    "for i in range(betterList.length):\n",
    "    e._(betterList[i], next(betterListValue))\n"
   ]
  },
  {
   "cell_type": "markdown",
   "metadata": {},
   "source": [
    "`Array.prototype.with()` => `EasyObj.BetterList._with()`\n",
    "\n",
    "<https://developer.mozilla.org/en-US/docs/Web/JavaScript/Reference/Global_Objects/Array/with>"
   ]
  },
  {
   "cell_type": "code",
   "execution_count": null,
   "metadata": {},
   "outputs": [],
   "source": [
    "betterList = BetterList([1, 2, 3, 4, 5])\n",
    "e._(betterList._with(2, 5), [1, 2, 5, 4, 5])\n",
    "e._(betterList, [1, 2, 3, 4, 5])"
   ]
  }
 ],
 "metadata": {
  "kernelspec": {
   "display_name": "Python 3",
   "language": "python",
   "name": "python3"
  },
  "language_info": {
   "codemirror_mode": {
    "name": "ipython",
    "version": 3
   },
   "file_extension": ".py",
   "mimetype": "text/x-python",
   "name": "python",
   "nbconvert_exporter": "python",
   "pygments_lexer": "ipython3",
   "version": "3.11.4"
  }
 },
 "nbformat": 4,
 "nbformat_minor": 2
}
