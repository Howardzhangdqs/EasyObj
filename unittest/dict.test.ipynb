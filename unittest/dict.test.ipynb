{
 "cells": [
  {
   "cell_type": "code",
   "execution_count": 17,
   "metadata": {},
   "outputs": [],
   "source": [
    "from test import Expect\n",
    "from EasyObj import BetterDict, DictUtils"
   ]
  },
  {
   "cell_type": "markdown",
   "metadata": {},
   "source": [
    "The `BetterDict` itself has the same operations as `EasyDict`, but it additionally supports two special methods: `Freeze` (write-protected and unconfigurable) and `Seal` (cannot add new properties or delete existing ones).\n",
    "\n",
    "Due to Python syntax limitations, we cannot add new methods to the `BetterDict` class like in JavaScript, so we need to introduce another `DictUtils` class to implement some of the functionalities from JavaScript.\n",
    "\n",
    "The JavaScript methods implemented in `DictUtils` are as follows:\n",
    "\n",
    "| JavaScript | Python `EasyObj` |\n",
    "| :--: | :--: |\n",
    "| `Object.assign()` | `EasyObj.DictUtils.assign()` |\n",
    "| `Object.create()` | `EasyObj.DictUtils.create()` |\n",
    "| `Object.defineProperties()` | `EasyObj.DictUtils.defineProperties()` |\n",
    "| `Object.entries()` | `EasyObj.DictUtils.entries()` |\n",
    "| `Object.freeze()` | `EasyObj.DictUtils.freeze()` |\n",
    "| `Object.fromEntries()` | `EasyObj.DictUtils.fromEntries()` |\n",
    "| `Object.getOwnPropertyNames()` | `EasyObj.DictUtils.getOwnPropertyNames()` |\n",
    "| `Object.getOwnPropertySymbols()` | `EasyObj.DictUtils.getOwnPropertySymbols()` |\n",
    "| `Object.groupBy()` | `EasyObj.DictUtils.groupBy()` |\n",
    "| `Object.hasOwn()` | `EasyObj.DictUtils.hasOwn()` |\n",
    "| `Object.is()` | `EasyObj.DictUtils._is()` |\n",
    "| `Object.isFrozen()` | `EasyObj.DictUtils.isFrozen()` |\n",
    "| `Object.isPrototypeOf()` | `EasyObj.DictUtils.isPrototypeOf()` |\n",
    "| `Object.isSealed()` | `EasyObj.DictUtils.isSealed()` |\n",
    "| `Object.keys()` | `EasyObj.DictUtils.keys()` |\n",
    "| `Object.seal()` | `EasyObj.DictUtils.seal()` |\n",
    "| `Object.values()` | `EasyObj.DictUtils.values()` |\n",
    "\n",
    "Due to Python syntax limitations, the following methods are currently not implemented:\n",
    "\n",
    "| Method Name |\n",
    "| :--: |\n",
    "| `Object.defineProperty()` |\n",
    "| `Object.getOwnPropertyDescriptor()` |\n",
    "| `Object.getOwnPropertyDescriptors()` |\n",
    "| `Object.getPrototypeOf()` |\n",
    "| `Object.isExtensible()` |\n",
    "| `Object.preventExtensions()` |\n",
    "| `Object.setPrototypeOf()` |\n",
    "| `Object.prototype.hasOwnProperty()` |\n",
    "| `Object.prototype.propertyIsEnumerable()` |\n",
    "| `Object.prototype.toLocaleString()` |\n",
    "| `Object.prototype.toString()` |\n",
    "| `Object.prototype.valueOf()` |"
   ]
  },
  {
   "cell_type": "markdown",
   "metadata": {},
   "source": [
    "The `Expect` here is not very useful. It simply checks if the two parameters passed in are the same. If they are different, it outputs the differences; if they are the same, it does nothing."
   ]
  },
  {
   "cell_type": "code",
   "execution_count": 19,
   "metadata": {},
   "outputs": [],
   "source": [
    "expect = Expect(\"Basic Functions\", showTimes=True)\n",
    "\n",
    "betterDict = BetterDict({\n",
    "    \"a\": 1,\n",
    "    \"b\": {\n",
    "        \"c\": 2,\n",
    "        \"d\": 3,\n",
    "    },\n",
    "})\n",
    "\n",
    "expect._((\n",
    "    betterDict.a,\n",
    "    betterDict.b.c,\n",
    "    betterDict[\"a\"],\n",
    "), (1, 2, 1))\n",
    "\n",
    "expect._((DictUtils.isSealed(betterDict), DictUtils.isFrozen(betterDict)), (False, False))\n",
    "\n",
    "expect._(BetterDict(), {})\n",
    "\n",
    "expect._(BetterDict(a=1), {'a': 1})\n",
    "\n",
    "expect._(BetterDict({\n",
    "    'a': 1\n",
    "}).a, 1)"
   ]
  },
  {
   "cell_type": "markdown",
   "metadata": {},
   "source": [
    "`Object.freeze()` => `EasyObj.DictUtils.freeze()`\n",
    "\n",
    "<https://developer.mozilla.org/en-US/docs/Web/JavaScript/Reference/Global_Objects/Object/freeze>\n",
    "\n",
    "`Object.isFrozen()` => `EasyObj.DictUtils.isFrozen()`\n",
    "\n",
    "<https://developer.mozilla.org/en-US/docs/Web/JavaScript/Reference/Global_Objects/Object/isFrozen>"
   ]
  },
  {
   "cell_type": "code",
   "execution_count": 20,
   "metadata": {},
   "outputs": [],
   "source": [
    "expect = Expect(\"Freeze Dict\", showTimes=True)\n",
    "\n",
    "frozenDict = DictUtils.freeze(betterDict)\n",
    "\n",
    "expect._((DictUtils.isSealed(frozenDict), DictUtils.isFrozen(frozenDict)), (False, True))\n",
    "\n",
    "expect._((frozenDict.a, frozenDict.b.c), (1, 2))\n",
    "\n",
    "try:\n",
    "    frozenDict.a = 1\n",
    "except Exception as err:\n",
    "    expect._(str(err), \"FrozenDict object does not support attribute assignment\")"
   ]
  },
  {
   "cell_type": "markdown",
   "metadata": {},
   "source": [
    "`Object.seal()` => `EasyObj.DictUtils.seal()`\n",
    "\n",
    "<https://developer.mozilla.org/en-US/docs/Web/JavaScript/Reference/Global_Objects/Object/seal>\n",
    "\n",
    "`Object.isSealed()` => `EasyObj.DictUtils.isSealed()`\n",
    "\n",
    "<https://developer.mozilla.org/en-US/docs/Web/JavaScript/Reference/Global_Objects/Object/isSealed>"
   ]
  },
  {
   "cell_type": "code",
   "execution_count": 21,
   "metadata": {},
   "outputs": [],
   "source": [
    "expect = Expect(\"Seal Dict\", showTimes=True)\n",
    "\n",
    "sealedDict = DictUtils.seal(betterDict)\n",
    "\n",
    "expect._((DictUtils.isSealed(sealedDict), DictUtils.isFrozen(sealedDict)), (True, False))\n",
    "\n",
    "expect._((sealedDict.a, sealedDict.b.c), (1, 2))\n",
    "\n",
    "sealedDict.a = 3\n",
    "\n",
    "expect._(sealedDict.a, 3)\n",
    "\n",
    "try:\n",
    "    sealedDict.a = 1\n",
    "except Exception as err:\n",
    "    expect._(str(err), \"FrozenDict object does not support attribute assignment\")"
   ]
  },
  {
   "cell_type": "markdown",
   "metadata": {},
   "source": [
    "`Object.assign()` => `DictUtils().assign()`\n",
    "\n",
    "<https://developer.mozilla.org/en-US/docs/Web/JavaScript/Reference/Global_Objects/Object/assign>\n",
    "\n",
    "`Object.create()` => `EasyObj.DictUtils.create()`\n",
    "\n",
    "<https://developer.mozilla.org/en-US/docs/Web/JavaScript/Reference/Global_Objects/Object/create>"
   ]
  },
  {
   "cell_type": "code",
   "execution_count": 22,
   "metadata": {},
   "outputs": [],
   "source": [
    "expect = Expect(\"DictUtil Test\", showTimes=True)\n",
    "\n",
    "expect._(\n",
    "    DictUtils.assign({\"a\": 1}, {\"b\": 2}, {\"c\": 3}),\n",
    "    {'a': 1, 'b': 2, 'c': 3}\n",
    ")\n",
    "\n",
    "expect._(\n",
    "    DictUtils.create({\"a\": 1}, {\"b\": 2}),\n",
    "    {'a': 1, 'b': 2}\n",
    ")"
   ]
  },
  {
   "cell_type": "markdown",
   "metadata": {},
   "source": [
    "`Object.keys()` => `EasyObj.DictUtils.keys()`\n",
    "\n",
    "<https://developer.mozilla.org/en-US/docs/Web/JavaScript/Reference/Global_Objects/Object/keys>\n",
    "\n",
    "`Object.entries()` => `EasyObj.DictUtils.entries()`\n",
    "\n",
    "<https://developer.mozilla.org/en-US/docs/Web/JavaScript/Reference/Global_Objects/Object/entries>"
   ]
  },
  {
   "cell_type": "code",
   "execution_count": 23,
   "metadata": {},
   "outputs": [],
   "source": [
    "expect._(DictUtils.keys({\"a\": 1}), [\"a\"])\n",
    "expect._(DictUtils.entries({\"a\": 1}), [('a', 1)])"
   ]
  },
  {
   "cell_type": "markdown",
   "metadata": {},
   "source": [
    "`Object.hasOwn()` => `EasyObj.DictUtils.hasOwn()`\n",
    "\n",
    "<https://developer.mozilla.org/en-US/docs/Web/JavaScript/Reference/Global_Objects/Object/hasOwn>"
   ]
  },
  {
   "cell_type": "code",
   "execution_count": 24,
   "metadata": {},
   "outputs": [],
   "source": [
    "expect._((\n",
    "    DictUtils.hasOwn(betterDict, \"a\"),\n",
    "    DictUtils.hasOwn(betterDict, \"e\"),\n",
    "    DictUtils.hasOwn(betterDict, \"d\"),\n",
    "), (True, False, False))"
   ]
  },
  {
   "cell_type": "markdown",
   "metadata": {},
   "source": [
    "`Object.fromEntries()` => `EasyObj.DictUtils.fromEntries()`\n",
    "\n",
    "<https://developer.mozilla.org/en-US/docs/Web/JavaScript/Reference/Global_Objects/Object/fromEntries>"
   ]
  },
  {
   "cell_type": "code",
   "execution_count": 25,
   "metadata": {},
   "outputs": [],
   "source": [
    "expect._(DictUtils.fromEntries([\n",
    "    [\"foo\", \"bar\"],\n",
    "    [\"baz\", 42]\n",
    "]), {'foo': 'bar', 'baz': 42})"
   ]
  },
  {
   "cell_type": "markdown",
   "metadata": {},
   "source": [
    "`Object.groupBy()` => `EasyObj.DictUtils.groupBy()`\n",
    "\n",
    "<https://developer.mozilla.org/en-US/docs/Web/JavaScript/Reference/Global_Objects/Object/groupBy>"
   ]
  },
  {
   "cell_type": "code",
   "execution_count": 26,
   "metadata": {},
   "outputs": [],
   "source": [
    "inventory = [\n",
    "    {\"name\": \"asparagus\", \"type\": \"vegetables\", \"quantity\": 5},\n",
    "    {\"name\": \"bananas\", \"type\": \"fruit\", \"quantity\": 0},\n",
    "    {\"name\": \"goat\", \"type\": \"meat\", \"quantity\": 23},\n",
    "    {\"name\": \"cherries\", \"type\": \"fruit\", \"quantity\": 5},\n",
    "    {\"name\": \"fish\", \"type\": \"meat\", \"quantity\": 22},\n",
    "]\n",
    "\n",
    "expect._(\n",
    "    DictUtils.groupBy(inventory, lambda x: x[\"type\"]),\n",
    "    {\n",
    "        'vegetables': [\n",
    "            {'name': 'asparagus', 'type': 'vegetables', 'quantity': 5}\n",
    "        ],\n",
    "        'fruit': [\n",
    "            {'name': 'bananas', 'type': 'fruit', 'quantity': 0},\n",
    "            {'name': 'cherries', 'type': 'fruit', 'quantity': 5}\n",
    "        ],\n",
    "        'meat': [\n",
    "            {'name': 'goat', 'type': 'meat', 'quantity': 23},\n",
    "            {'name': 'fish', 'type': 'meat', 'quantity': 22}\n",
    "        ]\n",
    "    }\n",
    ")"
   ]
  }
 ],
 "metadata": {
  "kernelspec": {
   "display_name": "Python 3",
   "language": "python",
   "name": "python3"
  },
  "language_info": {
   "codemirror_mode": {
    "name": "ipython",
    "version": 3
   },
   "file_extension": ".py",
   "mimetype": "text/x-python",
   "name": "python",
   "nbconvert_exporter": "python",
   "pygments_lexer": "ipython3",
   "version": "3.11.4"
  }
 },
 "nbformat": 4,
 "nbformat_minor": 2
}
