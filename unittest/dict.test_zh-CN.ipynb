{
 "cells": [
  {
   "cell_type": "code",
   "execution_count": 27,
   "metadata": {},
   "outputs": [],
   "source": [
    "from test import Expect\n",
    "from EasyObj import BetterDict, DictUtils"
   ]
  },
  {
   "cell_type": "markdown",
   "metadata": {},
   "source": [
    "`BetterDict` 本身的操作方法和 [`EasyDict`](https://pypi.org/project/easydict/) 相同，但是额外支持了 `Freeze` （不可写入、不可配置）和 `Seal` （不可添加新属性、不可删除现有属性）两种特殊方法。\n",
    "\n",
    "由于 Python 语法限制，我们无法像 JavaScript 那样在 `BetterDict` 类上加入新方法，因此需要引入另外一个 `DictUtils` 类来实现 JavaScript 中的部分功能。\n",
    "\n",
    "`DictUtils` 中实现的 JavasScript 方法如下：\n",
    "\n",
    "| JavaScript | Python `EasyObj` |\n",
    "| :--: | :--: |\n",
    "| `Object.assign()` | `EasyObj.DictUtils.assign()` |\n",
    "| `Object.create()` | `EasyObj.DictUtils.create()` |\n",
    "| `Object.defineProperties()` | `EasyObj.DictUtils.defineProperties()` |\n",
    "| `Object.entries()` | `EasyObj.DictUtils.entries()` |\n",
    "| `Object.freeze()` | `EasyObj.DictUtils.freeze()` |\n",
    "| `Object.fromEntries()` | `EasyObj.DictUtils.fromEntries()` |\n",
    "| `Object.getOwnPropertyNames()` | `EasyObj.DictUtils.getOwnPropertyNames()` |\n",
    "| `Object.getOwnPropertySymbols()` | `EasyObj.DictUtils.getOwnPropertySymbols()` |\n",
    "| `Object.groupBy()` | `EasyObj.DictUtils.groupBy()` |\n",
    "| `Object.hasOwn()` | `EasyObj.DictUtils.hasOwn()` |\n",
    "| `Object.is()` | `EasyObj.DictUtils._is()` |\n",
    "| `Object.isFrozen()` | `EasyObj.DictUtils.isFrozen()` |\n",
    "| `Object.isPrototypeOf()` | `EasyObj.DictUtils.isPrototypeOf()` |\n",
    "| `Object.isSealed()` | `EasyObj.DictUtils.isSealed()` |\n",
    "| `Object.keys()` | `EasyObj.DictUtils.keys()` |\n",
    "| `Object.seal()` | `EasyObj.DictUtils.seal()` |\n",
    "| `Object.values()` | `EasyObj.DictUtils.values()` |\n",
    "\n",
    "由于 Python 语法限制，以下方法暂无法实现：\n",
    "\n",
    "| 方法名 |\n",
    "| :--: |\n",
    "| `Object.defineProperty()` | \n",
    "| `Object.getOwnPropertyDescriptor()` |\n",
    "| `Object.getOwnPropertyDescriptors()` |\n",
    "| `Object.getPrototypeOf()` |\n",
    "| `Object.isExtensible()` |\n",
    "| `Object.preventExtensions()` |\n",
    "| `Object.setPrototypeOf()` |\n",
    "| `Object.prototype.hasOwnProperty()` |\n",
    "| `Object.prototype.propertyIsEnumerable()` |\n",
    "| `Object.prototype.toLocaleString()` |\n",
    "| `Object.prototype.toString()` |\n",
    "| `Object.prototype.valueOf()` |"
   ]
  },
  {
   "cell_type": "markdown",
   "metadata": {},
   "source": [
    "这里的 `Expect` 没啥用，就是检查传入的两个参数是否相同，如果不同就输出差异，如果相同就啥也不干。"
   ]
  },
  {
   "cell_type": "code",
   "execution_count": 29,
   "metadata": {},
   "outputs": [],
   "source": [
    "expect = Expect(\"Basic Functions\", showTimes=True)\n",
    "\n",
    "betterDict = BetterDict({\n",
    "    \"a\": 1,\n",
    "    \"b\": {\n",
    "        \"c\": 2,\n",
    "        \"d\": 3,\n",
    "    },\n",
    "})\n",
    "\n",
    "expect._((\n",
    "    betterDict.a,\n",
    "    betterDict.b.c,\n",
    "    betterDict[\"a\"],\n",
    "), (1, 2, 1))\n",
    "\n",
    "expect._((DictUtils.isSealed(betterDict), DictUtils.isFrozen(betterDict)), (False, False))\n",
    "\n",
    "expect._(BetterDict(), {})\n",
    "\n",
    "expect._(BetterDict(a=1), {'a': 1})\n",
    "\n",
    "expect._(BetterDict({\n",
    "    'a': 1\n",
    "}).a, 1)"
   ]
  },
  {
   "cell_type": "markdown",
   "metadata": {},
   "source": [
    "`Object.freeze()` => `EasyObj.DictUtils.freeze()`\n",
    "\n",
    "<https://developer.mozilla.org/zh-CN/docs/Web/JavaScript/Reference/Global_Objects/Object/freeze>\n",
    "\n",
    "`Object.isFrozen()` => `EasyObj.DictUtils.isFrozen()`\n",
    "\n",
    "<https://developer.mozilla.org/zh-CN/docs/Web/JavaScript/Reference/Global_Objects/Object/isFrozen>"
   ]
  },
  {
   "cell_type": "code",
   "execution_count": 30,
   "metadata": {},
   "outputs": [],
   "source": [
    "expect = Expect(\"Freeze Dict\", showTimes=True)\n",
    "\n",
    "frozenDict = DictUtils.freeze(betterDict)\n",
    "\n",
    "expect._((DictUtils.isSealed(frozenDict), DictUtils.isFrozen(frozenDict)), (False, True))\n",
    "\n",
    "expect._((frozenDict.a, frozenDict.b.c), (1, 2))\n",
    "\n",
    "try:\n",
    "    frozenDict.a = 1\n",
    "except Exception as err:\n",
    "    expect._(str(err), \"FrozenDict object does not support attribute assignment\")"
   ]
  },
  {
   "cell_type": "markdown",
   "metadata": {},
   "source": [
    "`Object.seal()` => `EasyObj.DictUtils.seal()`\n",
    "\n",
    "<https://developer.mozilla.org/zh-CN/docs/Web/JavaScript/Reference/Global_Objects/Object/seal>\n",
    "\n",
    "`Object.isSealed()` => `EasyObj.DictUtils.isSealed()`\n",
    "\n",
    "<https://developer.mozilla.org/zh-CN/docs/Web/JavaScript/Reference/Global_Objects/Object/isSealed>"
   ]
  },
  {
   "cell_type": "code",
   "execution_count": 31,
   "metadata": {},
   "outputs": [],
   "source": [
    "expect = Expect(\"Seal Dict\", showTimes=True)\n",
    "\n",
    "sealedDict = DictUtils.seal(betterDict)\n",
    "\n",
    "expect._((DictUtils.isSealed(sealedDict), DictUtils.isFrozen(sealedDict)), (True, False))\n",
    "\n",
    "expect._((sealedDict.a, sealedDict.b.c), (1, 2))\n",
    "\n",
    "sealedDict.a = 3\n",
    "\n",
    "expect._(sealedDict.a, 3)\n",
    "\n",
    "try:\n",
    "    sealedDict.a = 1\n",
    "except Exception as err:\n",
    "    expect._(str(err), \"FrozenDict object does not support attribute assignment\")"
   ]
  },
  {
   "cell_type": "markdown",
   "metadata": {},
   "source": [
    "`Object.assign()` => `DictUtils().assign()`\n",
    "\n",
    "<https://developer.mozilla.org/zh-CN/docs/Web/JavaScript/Reference/Global_Objects/Object/assign>\n",
    "\n",
    "`Object.create()` => `EasyObj.DictUtils.create()`\n",
    "\n",
    "<https://developer.mozilla.org/zh-CN/docs/Web/JavaScript/Reference/Global_Objects/Object/create>"
   ]
  },
  {
   "cell_type": "code",
   "execution_count": 32,
   "metadata": {},
   "outputs": [],
   "source": [
    "expect = Expect(\"DictUtil Test\", showTimes=True)\n",
    "\n",
    "expect._(\n",
    "    DictUtils.assign({\"a\": 1}, {\"b\": 2}, {\"c\": 3}),\n",
    "    {'a': 1, 'b': 2, 'c': 3}\n",
    ")\n",
    "\n",
    "expect._(\n",
    "    DictUtils.create({\"a\": 1}, {\"b\": 2}),\n",
    "    {'a': 1, 'b': 2}\n",
    ")"
   ]
  },
  {
   "cell_type": "markdown",
   "metadata": {},
   "source": [
    "`Object.keys()` => `EasyObj.DictUtils.keys()`\n",
    "\n",
    "<https://developer.mozilla.org/zh-CN/docs/Web/JavaScript/Reference/Global_Objects/Object/keys>\n",
    "\n",
    "`Object.entries()` => `EasyObj.DictUtils.entries()`\n",
    "\n",
    "<https://developer.mozilla.org/zh-CN/docs/Web/JavaScript/Reference/Global_Objects/Object/entries>"
   ]
  },
  {
   "cell_type": "code",
   "execution_count": 33,
   "metadata": {},
   "outputs": [],
   "source": [
    "expect._(DictUtils.keys({\"a\": 1}), [\"a\"])\n",
    "expect._(DictUtils.entries({\"a\": 1}), [('a', 1)])"
   ]
  },
  {
   "cell_type": "markdown",
   "metadata": {},
   "source": [
    "`Object.hasOwn()` => `EasyObj.DictUtils.hasOwn()`\n",
    "\n",
    "<https://developer.mozilla.org/zh-CN/docs/Web/JavaScript/Reference/Global_Objects/Object/hasOwn>"
   ]
  },
  {
   "cell_type": "code",
   "execution_count": 34,
   "metadata": {},
   "outputs": [],
   "source": [
    "expect._((\n",
    "    DictUtils.hasOwn(betterDict, \"a\"),\n",
    "    DictUtils.hasOwn(betterDict, \"e\"),\n",
    "    DictUtils.hasOwn(betterDict, \"d\"),\n",
    "), (True, False, False))"
   ]
  },
  {
   "cell_type": "markdown",
   "metadata": {},
   "source": [
    "`Object.fromEntries()` => `EasyObj.DictUtils.fromEntries()`\n",
    "\n",
    "<https://developer.mozilla.org/zh-CN/docs/Web/JavaScript/Reference/Global_Objects/Object/fromEntries>"
   ]
  },
  {
   "cell_type": "code",
   "execution_count": 35,
   "metadata": {},
   "outputs": [],
   "source": [
    "expect._(DictUtils.fromEntries([\n",
    "    [\"foo\", \"bar\"],\n",
    "    [\"baz\", 42]\n",
    "]), {'foo': 'bar', 'baz': 42})"
   ]
  },
  {
   "cell_type": "markdown",
   "metadata": {},
   "source": [
    "`Object.groupBy()` => `EasyObj.DictUtils.groupBy()`\n",
    "\n",
    "<https://developer.mozilla.org/zh-CN/docs/Web/JavaScript/Reference/Global_Objects/Object/groupBy>"
   ]
  },
  {
   "cell_type": "code",
   "execution_count": 36,
   "metadata": {},
   "outputs": [],
   "source": [
    "inventory = [\n",
    "    {\"name\": \"asparagus\", \"type\": \"vegetables\", \"quantity\": 5},\n",
    "    {\"name\": \"bananas\", \"type\": \"fruit\", \"quantity\": 0},\n",
    "    {\"name\": \"goat\", \"type\": \"meat\", \"quantity\": 23},\n",
    "    {\"name\": \"cherries\", \"type\": \"fruit\", \"quantity\": 5},\n",
    "    {\"name\": \"fish\", \"type\": \"meat\", \"quantity\": 22},\n",
    "]\n",
    "\n",
    "expect._(\n",
    "    DictUtils.groupBy(inventory, lambda x: x[\"type\"]),\n",
    "    {\n",
    "        'vegetables': [\n",
    "            {'name': 'asparagus', 'type': 'vegetables', 'quantity': 5}\n",
    "        ],\n",
    "        'fruit': [\n",
    "            {'name': 'bananas', 'type': 'fruit', 'quantity': 0},\n",
    "            {'name': 'cherries', 'type': 'fruit', 'quantity': 5}\n",
    "        ],\n",
    "        'meat': [\n",
    "            {'name': 'goat', 'type': 'meat', 'quantity': 23},\n",
    "            {'name': 'fish', 'type': 'meat', 'quantity': 22}\n",
    "        ]\n",
    "    }\n",
    ")"
   ]
  }
 ],
 "metadata": {
  "kernelspec": {
   "display_name": "Python 3",
   "language": "python",
   "name": "python3"
  },
  "language_info": {
   "codemirror_mode": {
    "name": "ipython",
    "version": 3
   },
   "file_extension": ".py",
   "mimetype": "text/x-python",
   "name": "python",
   "nbconvert_exporter": "python",
   "pygments_lexer": "ipython3",
   "version": "3.11.4"
  }
 },
 "nbformat": 4,
 "nbformat_minor": 2
}
